{
 "cells": [
  {
   "cell_type": "code",
   "execution_count": 1,
   "metadata": {},
   "outputs": [],
   "source": [
    "library(grf)"
   ]
  },
  {
   "cell_type": "code",
   "execution_count": 26,
   "metadata": {},
   "outputs": [],
   "source": [
    "run_simulation <- function(param.set,dgp,iterations) {\n",
    "    \n",
    "    repeat_simulation <- function(params,dgp,iterations) {\n",
    "\n",
    "        mse.tau <- replicate(iterations,run_iteration(params,dgp)) \n",
    "\n",
    "        return(rowMeans(mse.tau)) \n",
    "    }\n",
    "              \n",
    "    mse.tau.table <- apply(param.set,MARGIN=1,FUN=repeat_simulation,dgp,iterations)\n",
    "    return(t(mse.tau.table)) \n",
    "}\n",
    "\n",
    "run_iteration <- function(params,dgp) {\n",
    "    n = params[1]\n",
    "    p = params[2] \n",
    "    noise = params[3]\n",
    "    X <- matrix(rnorm(n * p), n, p)\n",
    "    data <- dgp(X)\n",
    "    Y <- data$E.Y + rnorm(n,sd=noise)\n",
    "    W <- data$W \n",
    "    TAU <- data$tau \n",
    "    tau.forest.boost = causal_forest(X, Y, W,\n",
    "                           tune.parameters = TRUE,boosting=TRUE)\n",
    "    tau.forest = causal_forest(X, Y, W,\n",
    "                          tune.parameters = TRUE,boosting=FALSE)\n",
    "\n",
    "    tau.hat.boost = predict(tau.forest.boost)$predictions\n",
    "    mse.tau.boost = mean((TAU - tau.hat.boost)^2)\n",
    "\n",
    "    tau.hat.forest = predict(tau.forest)$predictions\n",
    "    mse.tau.forest = mean((TAU - tau.hat.forest)^2)\n",
    "    return(c(mse.tau.boost,mse.tau.forest))\n",
    "}\n",
    "\n",
    "dgp_nonlinear <- function(X) {\n",
    "    result = list() \n",
    "    TAU = 1 / (1 + exp(-X[, 3]))\n",
    "    E.W = 1 / (1 + exp(-X[, 1] - X[, 2]))\n",
    "    W = rbinom(length(E.W) ,1, E.W)\n",
    "    E.Y = pmax(X[, 2] + X[, 3], 0) + rowMeans(X[, 4:6]) / 2 + W * TAU\n",
    "    result$W <- W\n",
    "    result$tau <- TAU\n",
    "    result$E.Y <- E.Y \n",
    "    return(result)\n",
    "}\n",
    "\n",
    "dgp_linear <- function(X) {\n",
    "    n = dim(X)[1]\n",
    "    result = list() \n",
    "    TAU = 2\n",
    "    E.W = rep(0.5,n)\n",
    "    W = rbinom(length(E.W) ,1, E.W)\n",
    "    E.Y = W*TAU + X[,1] +2*X[,2]\n",
    "    result$W <- W\n",
    "    result$tau <- TAU\n",
    "    result$E.Y <- E.Y \n",
    "    return(result)\n",
    "    \n",
    "}"
   ]
  },
  {
   "cell_type": "code",
   "execution_count": null,
   "metadata": {},
   "outputs": [],
   "source": [
    "set.seed(1) \n",
    "n.opt <- c(100,1000,10000)\n",
    "#p.opt <- c(6,12,60)\n",
    "p.opt <- c(6,12,60)\n",
    "#noise.opt <- c(1,5,20)\n",
    "noise.opt <-c(1,5,10) \n",
    "\n",
    "param.set <- expand.grid(n.opt,p.opt,noise.opt)\n",
    "\n",
    "mse.table <- run_simulation(param.set,dgp_linear,100)\n",
    "\n",
    "results <- cbind(param.set,mse.table)\n",
    "colnames(results) <- c(\"n\",\"p\",\"sigma\",\"mse.tau.boost\",\"mse.tau.forest\")\n",
    "results\n",
    "#mean MSE \n",
    "#histogram of both "
   ]
  },
  {
   "cell_type": "code",
   "execution_count": null,
   "metadata": {},
   "outputs": [],
   "source": []
  },
  {
   "cell_type": "code",
   "execution_count": null,
   "metadata": {},
   "outputs": [],
   "source": []
  }
 ],
 "metadata": {
  "kernelspec": {
   "display_name": "R",
   "language": "R",
   "name": "ir"
  },
  "language_info": {
   "codemirror_mode": "r",
   "file_extension": ".r",
   "mimetype": "text/x-r-source",
   "name": "R",
   "pygments_lexer": "r",
   "version": "3.5.1"
  }
 },
 "nbformat": 4,
 "nbformat_minor": 2
}
