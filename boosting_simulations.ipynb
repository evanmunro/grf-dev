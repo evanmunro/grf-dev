{
 "cells": [
  {
   "cell_type": "code",
   "execution_count": 1,
   "metadata": {},
   "outputs": [
    {
     "name": "stderr",
     "output_type": "stream",
     "text": [
      "Loading required package: future\n"
     ]
    }
   ],
   "source": [
    "library(grf)\n",
    "library(future.apply)\n",
    "library(xtable)\n",
    "plan(multiprocess, workers = 12)\n"
   ]
  },
  {
   "cell_type": "code",
   "execution_count": 5,
   "metadata": {
    "collapsed": true
   },
   "outputs": [],
   "source": [
    "run_simulation <- function(param.set,dgp,uniform,iterations) {\n",
    "    \n",
    "    repeat_simulation <- function(params,dgp,uniform,iterations) {\n",
    "\n",
    "        mse.tau <- future_replicate(iterations,run_iteration(params,dgp,uniform)) \n",
    "        \n",
    "        write.table(rowMeans(mse.tau), file = \"simulations_smooth.txt\", append = TRUE, sep = \" \",\n",
    "             row.names = FALSE,col.names = FALSE)\n",
    "        return(rowMeans(mse.tau)) \n",
    "    }\n",
    "              \n",
    "    mse.tau.table <- apply(param.set,MARGIN=1,FUN=repeat_simulation,dgp,uniform,iterations)\n",
    "    return(t(mse.tau.table)) \n",
    "}\n",
    "\n",
    "run_iteration <- function(params,dgp,uniform) {\n",
    "    n = params[1]\n",
    "    p = params[2] \n",
    "    noise = params[3]\n",
    "    if (!uniform){\n",
    "        X <- matrix(rnorm(n * p), n, p)\n",
    "    } \n",
    "    else { \n",
    "        X <- matrix(runif(n*p),n,p)\n",
    "    }\n",
    "    data <- dgp(X)\n",
    "    Y <- data$E.Y + rnorm(n,sd=noise)\n",
    "    W <- data$W \n",
    "    TAU <- data$tau \n",
    "    tau.forest.boost = causal_forest(X, Y, W,\n",
    "                           tune.parameters = TRUE,boosting=TRUE)\n",
    "    tau.forest = causal_forest(X, Y, W,\n",
    "                          tune.parameters = TRUE,boosting=FALSE)\n",
    "\n",
    "    tau.hat.boost = predict(tau.forest.boost)$predictions\n",
    "    mse.tau.boost = mean((TAU - tau.hat.boost)^2)\n",
    "\n",
    "    tau.hat.forest = predict(tau.forest)$predictions\n",
    "    mse.tau.forest = mean((TAU - tau.hat.forest)^2)\n",
    "    return(c(mse.tau.boost,mse.tau.forest))\n",
    "}\n",
    "\n",
    "dgp_nonlinear <- function(X) {\n",
    "    result = list() \n",
    "    TAU = 1 / (1 + exp(-X[, 3]))\n",
    "    E.W = 1 / (1 + exp(-X[, 1] - X[, 2]))\n",
    "    W = rbinom(length(E.W) ,1, E.W)\n",
    "    E.Y = pmax(X[, 2] + X[, 3], 0) + rowMeans(X[, 4:6]) / 2 + W * TAU\n",
    "    result$W <- W\n",
    "    result$tau <- TAU\n",
    "    result$E.Y <- E.Y \n",
    "    return(result)\n",
    "}\n",
    "\n",
    "dgp_smooth <- function(X) { \n",
    "    n = dim(X)[1]\n",
    "    result = list() \n",
    "    E.W = rep(0.5,n)\n",
    "    TAU = 1 / (1 + exp(-X[, 3]))\n",
    "    W = rbinom(length(E.W) ,1, E.W)\n",
    "    E.Y = W*TAU + log(1+exp(6*X[,1]))\n",
    "    result$W <- W\n",
    "    result$tau <- TAU\n",
    "    result$E.Y <- E.Y \n",
    "    return(result)\n",
    "}\n",
    "\n",
    "dgp_linear <- function(X) {\n",
    "    n = dim(X)[1]\n",
    "    result = list() \n",
    "    TAU = 2\n",
    "    E.W = rep(0.5,n)\n",
    "    W = rbinom(length(E.W) ,1, E.W)\n",
    "    E.Y = W*TAU + X[,1] +2*X[,2]\n",
    "    result$W <- W\n",
    "    result$tau <- TAU\n",
    "    result$E.Y <- E.Y \n",
    "    return(result)\n",
    "    \n",
    "}"
   ]
  },
  {
   "cell_type": "code",
   "execution_count": 2,
   "metadata": {},
   "outputs": [
    {
     "name": "stdout",
     "output_type": "stream",
     "text": [
      "  Var1 Var2 Var3\n",
      "1 4000    6    1\n",
      "2 4000   60    1\n",
      "3 4000    6   10\n",
      "4 4000   60   10\n"
     ]
    }
   ],
   "source": [
    "set.seed(1) \n",
    "n.opt <- c(4000)\n",
    "#p.opt <- c(6,12,60)\n",
    "p.opt <- c(6,60)\n",
    "#noise.opt <- c(1,5,10)\n",
    "noise.opt <-c(1,10) \n",
    "\n",
    "param.set <- expand.grid(n.opt,p.opt,noise.opt)\n",
    "\n",
    "print(param.set)\n",
    "#mse.table <- run_simulation(param.set[1:nrow(param.set),],dgp_smooth,uniform=TRUE,100)\n",
    "\n",
    "#results <- cbind(param.set[1:nrow(param.set),],mse.table)\n",
    "#colnames(results) <- c(\"n\",\"p\",\"sigma\",\"mse.tau.boost\",\"mse.tau.forest\")\n",
    "\n",
    "#print(xtable(results))\n",
    "#mean MSE \n",
    "#histogram of both "
   ]
  },
  {
   "cell_type": "code",
   "execution_count": 8,
   "metadata": {},
   "outputs": [
    {
     "data": {
      "text/html": [
       "<table>\n",
       "<thead><tr><th scope=col>n</th><th scope=col>p</th><th scope=col>sigma</th><th scope=col>mse.tau.boost</th><th scope=col>mse.tau.forest</th></tr></thead>\n",
       "<tbody>\n",
       "\t<tr><td> 100       </td><td> 6         </td><td> 1         </td><td>0.065146490</td><td>0.071396692</td></tr>\n",
       "\t<tr><td>1000       </td><td> 6         </td><td> 1         </td><td>0.008580967</td><td>0.008480546</td></tr>\n",
       "\t<tr><td> 100       </td><td>12         </td><td> 1         </td><td>0.059795536</td><td>0.064691942</td></tr>\n",
       "\t<tr><td>1000       </td><td>12         </td><td> 1         </td><td>0.010889504</td><td>0.010978407</td></tr>\n",
       "\t<tr><td> 100       </td><td>60         </td><td> 1         </td><td>0.065557371</td><td>0.074234698</td></tr>\n",
       "\t<tr><td>1000       </td><td>60         </td><td> 1         </td><td>0.009330531</td><td>0.010387833</td></tr>\n",
       "\t<tr><td> 100       </td><td> 6         </td><td> 5         </td><td>1.300858653</td><td>1.310177904</td></tr>\n",
       "\t<tr><td>1000       </td><td> 6         </td><td> 5         </td><td>0.164887434</td><td>0.164714684</td></tr>\n",
       "\t<tr><td> 100       </td><td>12         </td><td> 5         </td><td>1.621635858</td><td>1.584963007</td></tr>\n",
       "\t<tr><td>1000       </td><td>12         </td><td> 5         </td><td>0.167330378</td><td>0.198072903</td></tr>\n",
       "\t<tr><td> 100       </td><td>60         </td><td> 5         </td><td>1.217617038</td><td>1.263308388</td></tr>\n",
       "\t<tr><td>1000       </td><td>60         </td><td> 5         </td><td>0.164757371</td><td>0.162552183</td></tr>\n",
       "\t<tr><td> 100       </td><td> 6         </td><td>10         </td><td>4.685898945</td><td>4.539813910</td></tr>\n",
       "\t<tr><td>1000       </td><td> 6         </td><td>10         </td><td>0.622877166</td><td>0.596652669</td></tr>\n",
       "\t<tr><td> 100       </td><td>12         </td><td>10         </td><td>5.368055725</td><td>5.499477128</td></tr>\n",
       "\t<tr><td>1000       </td><td>12         </td><td>10         </td><td>0.612684362</td><td>0.658344129</td></tr>\n",
       "\t<tr><td> 100       </td><td>60         </td><td>10         </td><td>4.910563588</td><td>4.747205187</td></tr>\n",
       "\t<tr><td>1000       </td><td>60         </td><td>10         </td><td>0.661092311</td><td>0.662229218</td></tr>\n",
       "</tbody>\n",
       "</table>\n"
      ],
      "text/latex": [
       "\\begin{tabular}{r|lllll}\n",
       " n & p & sigma & mse.tau.boost & mse.tau.forest\\\\\n",
       "\\hline\n",
       "\t  100        &  6          &  1          & 0.065146490 & 0.071396692\\\\\n",
       "\t 1000        &  6          &  1          & 0.008580967 & 0.008480546\\\\\n",
       "\t  100        & 12          &  1          & 0.059795536 & 0.064691942\\\\\n",
       "\t 1000        & 12          &  1          & 0.010889504 & 0.010978407\\\\\n",
       "\t  100        & 60          &  1          & 0.065557371 & 0.074234698\\\\\n",
       "\t 1000        & 60          &  1          & 0.009330531 & 0.010387833\\\\\n",
       "\t  100        &  6          &  5          & 1.300858653 & 1.310177904\\\\\n",
       "\t 1000        &  6          &  5          & 0.164887434 & 0.164714684\\\\\n",
       "\t  100        & 12          &  5          & 1.621635858 & 1.584963007\\\\\n",
       "\t 1000        & 12          &  5          & 0.167330378 & 0.198072903\\\\\n",
       "\t  100        & 60          &  5          & 1.217617038 & 1.263308388\\\\\n",
       "\t 1000        & 60          &  5          & 0.164757371 & 0.162552183\\\\\n",
       "\t  100        &  6          & 10          & 4.685898945 & 4.539813910\\\\\n",
       "\t 1000        &  6          & 10          & 0.622877166 & 0.596652669\\\\\n",
       "\t  100        & 12          & 10          & 5.368055725 & 5.499477128\\\\\n",
       "\t 1000        & 12          & 10          & 0.612684362 & 0.658344129\\\\\n",
       "\t  100        & 60          & 10          & 4.910563588 & 4.747205187\\\\\n",
       "\t 1000        & 60          & 10          & 0.661092311 & 0.662229218\\\\\n",
       "\\end{tabular}\n"
      ],
      "text/markdown": [
       "\n",
       "| n | p | sigma | mse.tau.boost | mse.tau.forest |\n",
       "|---|---|---|---|---|\n",
       "|  100        |  6          |  1          | 0.065146490 | 0.071396692 |\n",
       "| 1000        |  6          |  1          | 0.008580967 | 0.008480546 |\n",
       "|  100        | 12          |  1          | 0.059795536 | 0.064691942 |\n",
       "| 1000        | 12          |  1          | 0.010889504 | 0.010978407 |\n",
       "|  100        | 60          |  1          | 0.065557371 | 0.074234698 |\n",
       "| 1000        | 60          |  1          | 0.009330531 | 0.010387833 |\n",
       "|  100        |  6          |  5          | 1.300858653 | 1.310177904 |\n",
       "| 1000        |  6          |  5          | 0.164887434 | 0.164714684 |\n",
       "|  100        | 12          |  5          | 1.621635858 | 1.584963007 |\n",
       "| 1000        | 12          |  5          | 0.167330378 | 0.198072903 |\n",
       "|  100        | 60          |  5          | 1.217617038 | 1.263308388 |\n",
       "| 1000        | 60          |  5          | 0.164757371 | 0.162552183 |\n",
       "|  100        |  6          | 10          | 4.685898945 | 4.539813910 |\n",
       "| 1000        |  6          | 10          | 0.622877166 | 0.596652669 |\n",
       "|  100        | 12          | 10          | 5.368055725 | 5.499477128 |\n",
       "| 1000        | 12          | 10          | 0.612684362 | 0.658344129 |\n",
       "|  100        | 60          | 10          | 4.910563588 | 4.747205187 |\n",
       "| 1000        | 60          | 10          | 0.661092311 | 0.662229218 |\n",
       "\n"
      ],
      "text/plain": [
       "   n    p  sigma mse.tau.boost mse.tau.forest\n",
       "1   100  6  1    0.065146490   0.071396692   \n",
       "2  1000  6  1    0.008580967   0.008480546   \n",
       "3   100 12  1    0.059795536   0.064691942   \n",
       "4  1000 12  1    0.010889504   0.010978407   \n",
       "5   100 60  1    0.065557371   0.074234698   \n",
       "6  1000 60  1    0.009330531   0.010387833   \n",
       "7   100  6  5    1.300858653   1.310177904   \n",
       "8  1000  6  5    0.164887434   0.164714684   \n",
       "9   100 12  5    1.621635858   1.584963007   \n",
       "10 1000 12  5    0.167330378   0.198072903   \n",
       "11  100 60  5    1.217617038   1.263308388   \n",
       "12 1000 60  5    0.164757371   0.162552183   \n",
       "13  100  6 10    4.685898945   4.539813910   \n",
       "14 1000  6 10    0.622877166   0.596652669   \n",
       "15  100 12 10    5.368055725   5.499477128   \n",
       "16 1000 12 10    0.612684362   0.658344129   \n",
       "17  100 60 10    4.910563588   4.747205187   \n",
       "18 1000 60 10    0.661092311   0.662229218   "
      ]
     },
     "metadata": {},
     "output_type": "display_data"
    },
    {
     "name": "stdout",
     "output_type": "stream",
     "text": [
      "% latex table generated in R 3.5.1 by xtable 1.8-3 package\n",
      "% Fri Mar 29 12:48:04 2019\n",
      "\\begin{table}[ht]\n",
      "\\centering\n",
      "\\begin{tabular}{rrrrrr}\n",
      "  \\hline\n",
      " & n & p & sigma & mse.tau.boost & mse.tau.forest \\\\ \n",
      "  \\hline\n",
      "1 & 100.00 & 6.00 & 1.00 & 0.07 & 0.07 \\\\ \n",
      "  2 & 1000.00 & 6.00 & 1.00 & 0.01 & 0.01 \\\\ \n",
      "  3 & 100.00 & 12.00 & 1.00 & 0.06 & 0.06 \\\\ \n",
      "  4 & 1000.00 & 12.00 & 1.00 & 0.01 & 0.01 \\\\ \n",
      "  5 & 100.00 & 60.00 & 1.00 & 0.07 & 0.07 \\\\ \n",
      "  6 & 1000.00 & 60.00 & 1.00 & 0.01 & 0.01 \\\\ \n",
      "  7 & 100.00 & 6.00 & 5.00 & 1.30 & 1.31 \\\\ \n",
      "  8 & 1000.00 & 6.00 & 5.00 & 0.16 & 0.16 \\\\ \n",
      "  9 & 100.00 & 12.00 & 5.00 & 1.62 & 1.58 \\\\ \n",
      "  10 & 1000.00 & 12.00 & 5.00 & 0.17 & 0.20 \\\\ \n",
      "  11 & 100.00 & 60.00 & 5.00 & 1.22 & 1.26 \\\\ \n",
      "  12 & 1000.00 & 60.00 & 5.00 & 0.16 & 0.16 \\\\ \n",
      "  13 & 100.00 & 6.00 & 10.00 & 4.69 & 4.54 \\\\ \n",
      "  14 & 1000.00 & 6.00 & 10.00 & 0.62 & 0.60 \\\\ \n",
      "  15 & 100.00 & 12.00 & 10.00 & 5.37 & 5.50 \\\\ \n",
      "  16 & 1000.00 & 12.00 & 10.00 & 0.61 & 0.66 \\\\ \n",
      "  17 & 100.00 & 60.00 & 10.00 & 4.91 & 4.75 \\\\ \n",
      "  18 & 1000.00 & 60.00 & 10.00 & 0.66 & 0.66 \\\\ \n",
      "   \\hline\n",
      "\\end{tabular}\n",
      "\\end{table}\n"
     ]
    }
   ],
   "source": [
    "results\n",
    "print(xtable(results))"
   ]
  },
  {
   "cell_type": "code",
   "execution_count": null,
   "metadata": {
    "collapsed": true
   },
   "outputs": [],
   "source": [
    "write.csv(results,\"final_output.csv\")"
   ]
  },
  {
   "cell_type": "code",
   "execution_count": 17,
   "metadata": {},
   "outputs": [
    {
     "name": "stdout",
     "output_type": "stream",
     "text": [
      "% latex table generated in R 3.5.1 by xtable 1.8-3 package\n",
      "% Fri Mar 29 12:49:55 2019\n",
      "\\begin{table}[ht]\n",
      "\\centering\n",
      "\\begin{tabular}{rrrrrr}\n",
      "  \\hline\n",
      " & n & p & sigma & mse.tau.boost & mse.tau.forest \\\\ \n",
      "  \\hline\n",
      "1 & 100 &   6 &   1 & 0.07 & 0.07 \\\\ \n",
      "  2 & 1000 &   6 &   1 & 0.01 & 0.01 \\\\ \n",
      "  3 & 100 &  12 &   1 & 0.06 & 0.06 \\\\ \n",
      "  4 & 1000 &  12 &   1 & 0.01 & 0.01 \\\\ \n",
      "  5 & 100 &  60 &   1 & 0.07 & 0.07 \\\\ \n",
      "  6 & 1000 &  60 &   1 & 0.01 & 0.01 \\\\ \n",
      "  7 & 100 &   6 &   5 & 1.30 & 1.31 \\\\ \n",
      "  8 & 1000 &   6 &   5 & 0.16 & 0.16 \\\\ \n",
      "  9 & 100 &  12 &   5 & 1.62 & 1.58 \\\\ \n",
      "  10 & 1000 &  12 &   5 & 0.17 & 0.20 \\\\ \n",
      "  11 & 100 &  60 &   5 & 1.22 & 1.26 \\\\ \n",
      "  12 & 1000 &  60 &   5 & 0.16 & 0.16 \\\\ \n",
      "  13 & 100 &   6 &  10 & 4.69 & 4.54 \\\\ \n",
      "  14 & 1000 &   6 &  10 & 0.62 & 0.60 \\\\ \n",
      "  15 & 100 &  12 &  10 & 5.37 & 5.50 \\\\ \n",
      "  16 & 1000 &  12 &  10 & 0.61 & 0.66 \\\\ \n",
      "  17 & 100 &  60 &  10 & 4.91 & 4.75 \\\\ \n",
      "  18 & 1000 &  60 &  10 & 0.66 & 0.66 \\\\ \n",
      "   \\hline\n",
      "\\end{tabular}\n",
      "\\end{table}\n"
     ]
    }
   ],
   "source": [
    "result <- read.csv(\"final_output.csv\")\n",
    "print(xtable(result[,2:ncol(result)],include.rownames=FALSE))"
   ]
  },
  {
   "cell_type": "code",
   "execution_count": null,
   "metadata": {
    "collapsed": true
   },
   "outputs": [],
   "source": []
  }
 ],
 "metadata": {
  "kernelspec": {
   "display_name": "R",
   "language": "R",
   "name": "ir"
  },
  "language_info": {
   "codemirror_mode": "r",
   "file_extension": ".r",
   "mimetype": "text/x-r-source",
   "name": "R",
   "pygments_lexer": "r",
   "version": "3.5.1"
  }
 },
 "nbformat": 4,
 "nbformat_minor": 2
}
